{
 "nbformat": 4,
 "nbformat_minor": 0,
 "metadata": {
  "colab": {
   "name": "dict_base.ipynb",
   "provenance": [
    {
     "file_id": "1M97sJq0JWf06_xZXMZAjvLCRQLHHrm-r",
     "timestamp": 1656766523993
    }
   ],
   "collapsed_sections": [],
   "authorship_tag": "ABX9TyMCa7WdUk+QD03Glw3ZsrYN"
  },
  "kernelspec": {
   "name": "python3",
   "display_name": "Python 3 (ipykernel)",
   "language": "python"
  },
  "language_info": {
   "name": "python"
  }
 },
 "cells": [
  {
   "cell_type": "markdown",
   "source": [
    "# Словари\n",
    "\n",
    "**Словарь**(dict) — изменяемая структура, которая хранит данные в формате пар ключ-значение."
   ],
   "metadata": {
    "id": "Nib27rRSwZ-i"
   }
  },
  {
   "cell_type": "markdown",
   "source": [
    "## Создание словарей"
   ],
   "metadata": {
    "id": "A7QyzJowxhBc"
   }
  },
  {
   "cell_type": "code",
   "execution_count": null,
   "metadata": {
    "id": "Zf160QkXwZE7"
   },
   "outputs": [],
   "source": [
    "empty_dict = {}  # Пустой словарь\n",
    "demo_dict = {'key1': 10, 'key2': 45, 'key4': 'hello'}  # Словарь, в качестве ключей строки\n",
    "another_dict = {4: 'hello', (2, 5): 'hi', 'string': '99'}  # Ключами словаря могут быть любые неизменяемые типы"
   ]
  },
  {
   "cell_type": "markdown",
   "source": [
    "\n",
    "\n",
    "*   Ключами словаря могут быть любые **неизменяемые** типы данных\n",
    "*   Значениями словаря могут быть любые типы данных без ограничений\n",
    "*   Ключи словаря должны быть **уникальными**\n",
    "\n"
   ],
   "metadata": {
    "id": "R1wB40671XTX"
   }
  },
  {
   "cell_type": "markdown",
   "source": [
    "## Применение словарей"
   ],
   "metadata": {
    "id": "A0_ZoBuoyrQT"
   }
  },
  {
   "cell_type": "markdown",
   "source": [
    "Словари отлично подходят для описание различных сущностей, которыми оперирует ваша программа: пользователей, сотрудников, товаров и т.п."
   ],
   "metadata": {
    "id": "-sd3rtQRyzdR"
   }
  },
  {
   "cell_type": "code",
   "source": [
    "# Опишем товар интернет магазина\n",
    "item = {\n",
    "    \"name\": \"Куртка\",  # под ключем name - удобно хранить название товара\n",
    "    \"brand\": \"AVI\",    # это бренд нашего товара\n",
    "    \"color\": \"red\",    # очевидно, цвет\n",
    "    \"cost\": 24500      # цена\n",
    "}\n",
    "\n",
    "# Опишем пользователя интернет сайта\n",
    "user = {\n",
    "    \"username\": \"petr\",\n",
    "    \"email\": \"petr1@mail.ru\",\n",
    "    \"name\": \"Петр\",\n",
    "    \"surname\": \"Иванов\"\n",
    "}"
   ],
   "metadata": {
    "id": "bRlK5PSBzHer"
   },
   "execution_count": null,
   "outputs": []
  },
  {
   "cell_type": "code",
   "source": [
    "# Также словари удобно использовать для отображений:\n",
    "colors = {\n",
    "    \"red\": \"красный\",\n",
    "    \"green\": \"зеленый\",\n",
    "    \"blue\": \"синий\"\n",
    "}\n",
    "\n",
    "days = {\n",
    "    1: \"понедельник\",\n",
    "    2: \"вторник\",\n",
    "    3: \"среда\",\n",
    "    # ...\n",
    "}"
   ],
   "metadata": {
    "id": "2T-CoXA-6kX9"
   },
   "execution_count": null,
   "outputs": []
  },
  {
   "cell_type": "markdown",
   "source": [
    "Словари применяются и для других задач, это просто одини из наиболее очевидных примеров применения."
   ],
   "metadata": {
    "id": "8Tq-dlNM4UPl"
   }
  },
  {
   "cell_type": "markdown",
   "source": [
    "## Доступ к элементам"
   ],
   "metadata": {
    "id": "QC22TrUc01Z0"
   }
  },
  {
   "cell_type": "markdown",
   "source": [
    "Как мы выяснили выше, словари хранят информацию о каких-то объектах нашей программы(товары, пользователи).\n",
    "\n",
    "Информация хранится в виде пар ключ-значение, обращение происходит по ключам"
   ],
   "metadata": {
    "id": "OJdUoymI0909"
   }
  },
  {
   "cell_type": "code",
   "source": [
    "# Как правило мы знаем, какие ключи есть у словаря. Т.к. ключи - это по сути параметры нашего объекта\n",
    "car = {\n",
    "    \"brand\": \"Toyota\",\n",
    "    \"model\": \"Camry\",\n",
    "    \"color\": \"blue\"\n",
    "}\n",
    "\n",
    "print(\"Цвет автомобиля -\", car[\"color\"])\n",
    "print(\"Модель автомобиля -\", car[\"model\"])"
   ],
   "metadata": {
    "colab": {
     "base_uri": "https://localhost:8080/"
    },
    "id": "6SiDFx4Z20bR",
    "executionInfo": {
     "status": "ok",
     "timestamp": 1656714412193,
     "user_tz": -180,
     "elapsed": 9,
     "user": {
      "displayName": "Евгений Юрченко",
      "userId": "04330354856914409701"
     }
    },
    "outputId": "dfcc0d86-344a-45f9-e444-fca176413c6d",
    "ExecuteTime": {
     "end_time": "2025-03-19T18:51:32.453501Z",
     "start_time": "2025-03-19T18:51:32.449063Z"
    }
   },
   "outputs": [
    {
     "name": "stdout",
     "output_type": "stream",
     "text": [
      "Цвет автомобиля - blue\n",
      "Модель автомобиля - Camry\n"
     ]
    }
   ],
   "execution_count": 3
  },
  {
   "cell_type": "markdown",
   "source": [
    "### Задание"
   ],
   "metadata": {
    "id": "QCMMfbts6QCP"
   }
  },
  {
   "cell_type": "code",
   "source": [
    "# Вводится номер для недели, выведите название этого дня\n",
    "days = {\n",
    "    1: \"понедельник\",\n",
    "    2: \"вторник\",\n",
    "    3: \"среда\",\n",
    "    # Допишите оставшиеся дни недели\n",
    "}\n",
    "day_number = int(input(\"Номер дня недели:\"))\n",
    "\n",
    "print(f\"Название дня - {...}\")"
   ],
   "metadata": {
    "id": "IwOEshDq6SYI",
    "colab": {
     "base_uri": "https://localhost:8080/"
    },
    "executionInfo": {
     "status": "ok",
     "timestamp": 1656765167490,
     "user_tz": -180,
     "elapsed": 12088,
     "user": {
      "displayName": "Евгений Юрченко",
      "userId": "04330354856914409701"
     }
    },
    "outputId": "466d8f95-8583-4f6e-fa9d-efe909590ff7"
   },
   "execution_count": null,
   "outputs": [
    {
     "output_type": "stream",
     "name": "stdout",
     "text": [
      "Номер дня недели:2\n",
      "Название дня - Ellipsis\n"
     ]
    }
   ]
  },
  {
   "cell_type": "markdown",
   "source": [
    "### Задание"
   ],
   "metadata": {
    "id": "V5v46t7r8Nj6"
   }
  },
  {
   "cell_type": "code",
   "source": [
    "# Дано описание человека\n",
    "person = {\n",
    "    \"name\": \"Иван\",\n",
    "    \"surname\": \"Кукушкин\",\n",
    "    \"age\": 45\n",
    "}\n",
    "# Выведите сообщение формата: \"К нам пришел Алексей Иванов возрастом 30 лет\"\n",
    "# Подставив данные о человеке из словаря"
   ],
   "metadata": {
    "id": "QO0ZOSGc8Mi2"
   },
   "execution_count": null,
   "outputs": []
  },
  {
   "cell_type": "markdown",
   "source": [
    "## Добавление и изменение элементов"
   ],
   "metadata": {
    "id": "hIxRoYwO4pvU"
   }
  },
  {
   "cell_type": "markdown",
   "source": [
    "Т.к. словари являются изменяемыми структурами, возможны следующие опрации"
   ],
   "metadata": {
    "id": "tXPxTlg64uQi"
   }
  },
  {
   "cell_type": "code",
   "source": [
    "car = {\n",
    "    \"brand\": \"Toyta\",\n",
    "    \"model\": \"Camry\",\n",
    "    \"color\": \"black\"\n",
    "}\n",
    "print(car)\n",
    "\n",
    "# Добавление нового:\n",
    "car[\"max_speed\"] = 180  # добавляем параметр максимальной скорости\n",
    "print(car)\n"
   ],
   "metadata": {
    "id": "wuVTAvth45QC",
    "colab": {
     "base_uri": "https://localhost:8080/"
    },
    "executionInfo": {
     "status": "ok",
     "timestamp": 1656714431130,
     "user_tz": -180,
     "elapsed": 285,
     "user": {
      "displayName": "Евгений Юрченко",
      "userId": "04330354856914409701"
     }
    },
    "outputId": "345dc5ed-49e7-4a11-b19b-155fb7035a1c"
   },
   "execution_count": null,
   "outputs": [
    {
     "output_type": "stream",
     "name": "stdout",
     "text": [
      "{'brand': 'Toyta', 'model': 'Camry', 'color': 'black'}\n",
      "{'brand': 'Toyta', 'model': 'Camry', 'color': 'black', 'max_speed': 180}\n"
     ]
    }
   ]
  },
  {
   "cell_type": "code",
   "source": [
    "car = {\n",
    "    \"brand\": \"Toyta\",\n",
    "    \"model\": \"Camry\",\n",
    "    \"color\": \"black\"\n",
    "}\n",
    "print(car)\n",
    "\n",
    "# Изменение существующего:\n",
    "car[\"color\"] = \"blue\"\n",
    "print(car)"
   ],
   "metadata": {
    "id": "qiVxVnxl50he",
    "colab": {
     "base_uri": "https://localhost:8080/"
    },
    "executionInfo": {
     "status": "ok",
     "timestamp": 1656714434250,
     "user_tz": -180,
     "elapsed": 263,
     "user": {
      "displayName": "Евгений Юрченко",
      "userId": "04330354856914409701"
     }
    },
    "outputId": "16c5a1b3-b73c-4448-eb35-c5dab3578ac9"
   },
   "execution_count": null,
   "outputs": [
    {
     "output_type": "stream",
     "name": "stdout",
     "text": [
      "{'brand': 'Toyta', 'model': 'Camry', 'color': 'black'}\n",
      "{'brand': 'Toyta', 'model': 'Camry', 'color': 'blue'}\n"
     ]
    }
   ]
  },
  {
   "cell_type": "code",
   "source": [
    "car = {\n",
    "    \"brand\": \"Toyta\",\n",
    "    \"model\": \"Camry\",\n",
    "    \"color\": \"black\"\n",
    "}\n",
    "print(car)\n",
    "\n",
    "# Удаление:\n",
    "del car[\"brand\"]\n",
    "print(car)"
   ],
   "metadata": {
    "id": "qhBr3ewq54E4",
    "colab": {
     "base_uri": "https://localhost:8080/"
    },
    "executionInfo": {
     "status": "ok",
     "timestamp": 1656714437120,
     "user_tz": -180,
     "elapsed": 259,
     "user": {
      "displayName": "Евгений Юрченко",
      "userId": "04330354856914409701"
     }
    },
    "outputId": "ff7cef03-9a41-4b09-9023-091fa53d969f"
   },
   "execution_count": null,
   "outputs": [
    {
     "output_type": "stream",
     "name": "stdout",
     "text": [
      "{'brand': 'Toyta', 'model': 'Camry', 'color': 'black'}\n",
      "{'model': 'Camry', 'color': 'black'}\n"
     ]
    }
   ]
  },
  {
   "cell_type": "markdown",
   "source": [
    "### Задание"
   ],
   "metadata": {
    "id": "nnIip_ug_kkg"
   }
  },
  {
   "cell_type": "code",
   "source": [
    "# С помощью словаря описаны два товара интернет магазина\n",
    "product1 = {\n",
    "    \"id\": 1,\n",
    "    \"title\": \"iPhone 9\",\n",
    "    \"price\": 124200,\n",
    "    \"brand\": \"Apple\",\n",
    "    \"category\": \"smartphones\"    \n",
    "}\n",
    "\n",
    "product2 = {\n",
    "    \"id\": 4,\n",
    "    \"title\": \"Redmi 10\",\n",
    "    \"price\": 18300,\n",
    "    \"brand\": \"Xiaomi\",\n",
    "    \"category\": \"smartphones\"    \n",
    "}\n",
    "# Выведите названия(title) товаров и их цены в формате: \"Товар <такой-то> стоимостью <столько-то> рублей\"\n"
   ],
   "metadata": {
    "id": "gy4XOoeU_gCi"
   },
   "execution_count": null,
   "outputs": []
  },
  {
   "cell_type": "markdown",
   "source": [
    "## Итерация(перебор) по элементам словаря"
   ],
   "metadata": {
    "id": "x5oWbMTT98ec"
   }
  },
  {
   "cell_type": "markdown",
   "source": [
    "Словарь, как и список, является итератором, его можно использовать в цикле for in"
   ],
   "metadata": {
    "id": "848x8w-i-Dw1"
   }
  },
  {
   "cell_type": "code",
   "source": [
    "car = {\n",
    "    \"brand\": \"Toyta\",\n",
    "    \"model\": \"Camry\",\n",
    "    \"color\": \"black\"\n",
    "}\n",
    "# Цикл for перебирает ключи словаря\n",
    "for key in car:\n",
    "  print(key)\n",
    "print()\n",
    "# Но т.к. по ключу вы можете получить значение:\n",
    "for key in car:     # Получаем ключи\n",
    "  value = car[key]  # По ключу получаем значение\n",
    "  print(f\"{key}: {value}\")"
   ],
   "metadata": {
    "id": "K5M43_5J-PWE",
    "colab": {
     "base_uri": "https://localhost:8080/"
    },
    "executionInfo": {
     "status": "ok",
     "timestamp": 1656714446887,
     "user_tz": -180,
     "elapsed": 266,
     "user": {
      "displayName": "Евгений Юрченко",
      "userId": "04330354856914409701"
     }
    },
    "outputId": "04375703-9f9d-4383-9aaf-ba8fd324e925"
   },
   "execution_count": null,
   "outputs": [
    {
     "output_type": "stream",
     "name": "stdout",
     "text": [
      "brand\n",
      "model\n",
      "color\n",
      "\n",
      "brand: Toyta\n",
      "model: Camry\n",
      "color: black\n"
     ]
    }
   ]
  },
  {
   "cell_type": "markdown",
   "source": [
    "## Методы словарей"
   ],
   "metadata": {
    "id": "e6EkLrrK-_C1"
   }
  },
  {
   "cell_type": "markdown",
   "source": [
    "Методы словарей предоставляют дополнительные инструменты.\n",
    "\n",
    "Полный список методов можно найти, например, [тут](https://pythonworld.ru/tipy-dannyx-v-python/slovari-dict-funkcii-i-metody-slovarej.html) или [тут](https://letpy.com/handbook/dict-methods/)."
   ],
   "metadata": {
    "id": "ewTrzTcT_BIl"
   }
  },
  {
   "cell_type": "markdown",
   "source": [
    "### Задача"
   ],
   "metadata": {
    "id": "o48LLsK8VNC2"
   }
  },
  {
   "cell_type": "code",
   "source": [
    "# Дано описание товара\n",
    "item = {\n",
    "    \"name\": \"Кроссовки\", \n",
    "    \"price\": \"7540.5\", \n",
    "    \"currency\": \"rub\", \n",
    "    \"color\": \"white\"\n",
    "    }\n",
    "# Ключи точно известны, а вот значения могут быть разные(эти значения даны для примера)\n",
    "\n",
    "# Также известен курс доллара:\n",
    "dollar_rate = 74.12\n",
    "\n",
    "# Вычислите цену товара в долларах\n",
    "price_usd = ..."
   ],
   "metadata": {
    "id": "n5hjiV8ZWcfr"
   },
   "execution_count": null,
   "outputs": []
  },
  {
   "cell_type": "markdown",
   "source": [
    "### Задача"
   ],
   "metadata": {
    "id": "jJ_QZd39WZ7b"
   }
  },
  {
   "cell_type": "code",
   "source": [
    "# Даны два списка одинаковой длины. Необходимо создать из них словарь таким образом,\n",
    "# чтобы элементы первого списка были ключами, а элементы второго — соответственно значениями нашего словаря.\n",
    "\n",
    "keys = ['name', 'surname', 'age', 'rate']\n",
    "values = ['Петр', 'Первый', 42, 1300]\n",
    "\n",
    "# TODO: your code here\n",
    "\n",
    "# Нужно получить словарь:\n",
    "# {'name': 'Петр', 'surname': 'Первый', 'age': 42, 'rate': 1300}\n",
    "\n",
    "# Подсказка, для решения вам поможет функция zip(). Смотри пример ниже"
   ],
   "metadata": {
    "id": "rIvlzZi4VQ0s"
   },
   "execution_count": null,
   "outputs": []
  },
  {
   "cell_type": "markdown",
   "source": [
    "### Пример: использование zip()"
   ],
   "metadata": {
    "id": "YWqmJvsCWR6O"
   }
  },
  {
   "cell_type": "code",
   "source": [
    "# Функция zip() позволяет пройти циклом for сразу по двум и более спискам\n",
    "list1 = [1, 2, 3, 4]\n",
    "list2 = [\"Вася\", \"Петя\", \"Коля\", \"Иван\"]\n",
    "\n",
    "for first, second in zip(list1, list2):\n",
    "  print(f\"first={first}, second={second}\")"
   ],
   "metadata": {
    "id": "vR8yDes6VcUk"
   },
   "execution_count": null,
   "outputs": []
  }
 ]
}
